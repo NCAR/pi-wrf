{
 "cells": [
  {
   "cell_type": "code",
   "execution_count": 1,
   "id": "df04ff45-9712-44d0-83ef-2f99606e5080",
   "metadata": {},
   "outputs": [],
   "source": [
    "from  ipyleaflet import (Map, \n",
    "                      #   GeoData, \n",
    "                         basemaps, \n",
    "                       #  WidgetControl, \n",
    "                       #  LayersControl, \n",
    "                         Marker) "
   ]
  },
  {
   "cell_type": "code",
   "execution_count": 2,
   "id": "8ec8a343-b0d9-475f-a074-72aa368978f6",
   "metadata": {},
   "outputs": [
    {
     "data": {
      "application/vnd.jupyter.widget-view+json": {
       "model_id": "7253e28e5d014c27bb5e055bda3fc2a4",
       "version_major": 2,
       "version_minor": 0
      },
      "text/plain": [
       "Map(center=[57.71, 11.98], controls=(ZoomControl(options=['position', 'zoom_in_text', 'zoom_in_title', 'zoom_o…"
      ]
     },
     "metadata": {},
     "output_type": "display_data"
    }
   ],
   "source": [
    "center = [57.71, 11.98]\n",
    "zoom = 2\n",
    "n = Map(basemap=basemaps.OpenStreetMap.Mapnik, center=center, zoom=zoom)\n",
    "marker = Marker(location=center, draggable=True)\n",
    "n.add_layer(marker);\n",
    "display(n)"
   ]
  },
  {
   "cell_type": "code",
   "execution_count": 4,
   "id": "7927c990-9e48-4c0b-b27e-433b1a8ff85f",
   "metadata": {},
   "outputs": [
    {
     "name": "stdout",
     "output_type": "stream",
     "text": [
      "[47.754097979680026, 35.85937500000001]\n"
     ]
    }
   ],
   "source": [
    "print(marker.location)"
   ]
  },
  {
   "cell_type": "code",
   "execution_count": 1,
   "id": "8f73b989-6b63-4ff5-8388-d2a7bbeeef2b",
   "metadata": {},
   "outputs": [
    {
     "name": "stdout",
     "output_type": "stream",
     "text": [
      "test\n"
     ]
    }
   ],
   "source": [
    "print('test')"
   ]
  },
  {
   "cell_type": "code",
   "execution_count": null,
   "id": "e268d327",
   "metadata": {},
   "outputs": [],
   "source": []
  }
 ],
 "metadata": {
  "kernelspec": {
   "display_name": "Python 3",
   "language": "python",
   "name": "python3"
  },
  "language_info": {
   "codemirror_mode": {
    "name": "ipython",
    "version": 3
   },
   "file_extension": ".py",
   "mimetype": "text/x-python",
   "name": "python",
   "nbconvert_exporter": "python",
   "pygments_lexer": "ipython3",
   "version": "3.5.3"
  }
 },
 "nbformat": 4,
 "nbformat_minor": 5
}
